{
  "cells": [
    {
      "cell_type": "markdown",
      "metadata": {
        "id": "zNfVFF2QOhhW"
      },
      "source": [
        "# EL4106 Proyect 1 - Style transfer with VGG16 CNN"
      ]
    },
    {
      "cell_type": "markdown",
      "metadata": {
        "id": "9ERNT0imOn8W"
      },
      "source": [
        "## Preliminary configurations"
      ]
    },
    {
      "cell_type": "markdown",
      "source": [
        "### Downloading the data"
      ],
      "metadata": {
        "id": "a3EV1EdT8nfG"
      }
    },
    {
      "cell_type": "code",
      "execution_count": null,
      "metadata": {
        "colab": {
          "base_uri": "https://localhost:8080/"
        },
        "id": "WMefbarMmkBa",
        "outputId": "5ed212cb-ec58-4e83-8138-eb0459820279"
      },
      "outputs": [
        {
          "output_type": "stream",
          "name": "stdout",
          "text": [
            "Done!\n"
          ]
        }
      ],
      "source": [
        "# Run this cell using the styletransfer22.2 account\n",
        "from google.colab import drive, output\n",
        "drive.mount(\"/content/drive\")\n",
        "\n",
        "!rm -rf /content/sample_data\n",
        "!cp /content/drive/MyDrive/test2017.zip /content/\n",
        "!unzip -qo /content/test2017.zip -d /content/\n",
        "!rm /content/test2017.zip\n",
        "!mkdir /content/img\n",
        "\n",
        "output.clear()\n",
        "!echo \"Done!\""
      ]
    },
    {
      "cell_type": "markdown",
      "source": [
        "### Creating data structures"
      ],
      "metadata": {
        "id": "joeHU5aN8r-R"
      }
    },
    {
      "cell_type": "code",
      "execution_count": null,
      "metadata": {
        "id": "i0fwWELHKWxa"
      },
      "outputs": [],
      "source": [
        "import os\n",
        "import numpy as np\n",
        "import torch\n",
        "import torchvision\n",
        "from torch import nn\n",
        "from torchvision import models\n",
        "from torchvision import io\n",
        "import matplotlib.pyplot as plt\n",
        "from PIL import Image\n",
        "import time\n",
        "from tqdm import tqdm\n",
        "\n",
        "\n",
        "class UnsupervisedImageDataset(torch.utils.data.Dataset):\n",
        "    def __init__(self, img_dir, transform=None, use_gpu=False):\n",
        "        self.img_dir = img_dir\n",
        "        self.image_names = os.listdir(self.img_dir)\n",
        "        self.transform = transform\n",
        "        self.use_gpu = use_gpu\n",
        "\n",
        "    def __len__(self):\n",
        "        return len(self.image_names)\n",
        "\n",
        "    def __getitem__(self, idx):\n",
        "        image = Image.open(os.path.join(self.img_dir, self.image_names[idx])).convert(\"RGB\")\n",
        "        if self.transform is not None:\n",
        "            image = self.transform(image)\n",
        "        return image\n",
        "\n",
        "\n",
        "class VGG16DecoderImageDataset(UnsupervisedImageDataset):\n",
        "    def __init__(self, *args, encoder, **kwargs):\n",
        "        super().__init__(*args, **kwargs)\n",
        "        self.encoder = encoder\n",
        "\n",
        "    def __getitem__(self, idx):\n",
        "        image = Image.open(os.path.join(self.img_dir, self.image_names[idx])).convert(\"RGB\")\n",
        "        if self.transform is not None:\n",
        "            image = self.transform(image)\n",
        "\n",
        "        if self.use_gpu:\n",
        "            image = image.to(\"cuda\")\n",
        "        features = self.encoder(image)\n",
        "        return features, image\n",
        "\n",
        "\n",
        "class VGG16DecoderImageDataloader:\n",
        "    def __init__(self, dataset, batch_size, use_gpu=False):\n",
        "        self.dataset = dataset\n",
        "        self.batch_size = batch_size\n",
        "        self.use_gpu = use_gpu\n",
        "\n",
        "    def __len__(self):\n",
        "        return int(np.ceil(len(self.dataset) / self.batch_size))\n",
        "\n",
        "    def __iter__(self):\n",
        "        self.indices = list(range(len(self.dataset)))\n",
        "        np.random.default_rng().shuffle(self.indices)\n",
        "        return self\n",
        "\n",
        "    def __next__(self):\n",
        "        if not self.indices:\n",
        "            raise StopIteration\n",
        "        indices = self.indices[:self.batch_size]\n",
        "        self.indices = self.indices[self.batch_size:]\n",
        "        result_feats = torch.zeros((self.batch_size, 512, 7, 7))\n",
        "        result_image = torch.zeros((self.batch_size, 3, 224, 224))\n",
        "        for i, idx in enumerate(indices):\n",
        "            features, image = self.dataset[idx]\n",
        "            result_feats[i] = features\n",
        "            result_image[i] = image\n",
        "        if self.use_gpu:\n",
        "            result_feats = result_feats.cuda()\n",
        "            result_image = result_image.cuda()\n",
        "        return result_feats, result_image\n"
      ]
    },
    {
      "cell_type": "markdown",
      "metadata": {
        "id": "3P3FRS-vOtVH"
      },
      "source": [
        "## Model definition"
      ]
    },
    {
      "cell_type": "markdown",
      "metadata": {
        "id": "m89LZkJiOxGC"
      },
      "source": [
        "### Encoder"
      ]
    },
    {
      "cell_type": "markdown",
      "metadata": {
        "id": "oqlGMIBrdS1d"
      },
      "source": [
        "We import the VGG16 network available in Pytorch, using the default pretrained weights. Since VGG16 contains three parts (features, average pooling and MLP), we only extract the one we care about: the features, corresponding to the convolutional layers.\n",
        "\n",
        "Choosing the depth is also implemented, cutting off each level by the max pooling layers. This depth is specified upon instancing the `VGG16Encoder` class."
      ]
    },
    {
      "cell_type": "code",
      "execution_count": null,
      "metadata": {
        "id": "IZMojS1HOvs5"
      },
      "outputs": [],
      "source": [
        "class VGG16Encoder(nn.Module):\n",
        "    def __init__(self, depth=5, use_gpu=False):\n",
        "        super().__init__()\n",
        "        all_layers = (\n",
        "            models\n",
        "            .vgg16(weights=models.VGG16_Weights.DEFAULT)\n",
        "            .eval()\n",
        "            .features\n",
        "        )\n",
        "        if use_gpu:\n",
        "            all_layers = all_layers.to(\"cuda\")\n",
        "\n",
        "        # Hardcoded indices for each depth\n",
        "        indices = {\n",
        "            1: 4,\n",
        "            2: 9,\n",
        "            3: 16,\n",
        "            4: 23,\n",
        "            5: 30,\n",
        "        }\n",
        "        self.model = all_layers[:indices[depth] + 1]\n",
        "\n",
        "    def forward(self, x):\n",
        "        return self.model(x)"
      ]
    },
    {
      "cell_type": "code",
      "execution_count": null,
      "metadata": {
        "colab": {
          "base_uri": "https://localhost:8080/"
        },
        "id": "WpCNTbCnPxlX",
        "outputId": "d44fcefd-2a9d-494d-d95c-ca8dd73cb03e"
      },
      "outputs": [
        {
          "output_type": "execute_result",
          "data": {
            "text/plain": [
              "Sequential(\n",
              "  (0): Conv2d(3, 64, kernel_size=(3, 3), stride=(1, 1), padding=(1, 1))\n",
              "  (1): ReLU(inplace=True)\n",
              "  (2): Conv2d(64, 64, kernel_size=(3, 3), stride=(1, 1), padding=(1, 1))\n",
              "  (3): ReLU(inplace=True)\n",
              "  (4): MaxPool2d(kernel_size=2, stride=2, padding=0, dilation=1, ceil_mode=False)\n",
              "  (5): Conv2d(64, 128, kernel_size=(3, 3), stride=(1, 1), padding=(1, 1))\n",
              "  (6): ReLU(inplace=True)\n",
              "  (7): Conv2d(128, 128, kernel_size=(3, 3), stride=(1, 1), padding=(1, 1))\n",
              "  (8): ReLU(inplace=True)\n",
              "  (9): MaxPool2d(kernel_size=2, stride=2, padding=0, dilation=1, ceil_mode=False)\n",
              "  (10): Conv2d(128, 256, kernel_size=(3, 3), stride=(1, 1), padding=(1, 1))\n",
              "  (11): ReLU(inplace=True)\n",
              "  (12): Conv2d(256, 256, kernel_size=(3, 3), stride=(1, 1), padding=(1, 1))\n",
              "  (13): ReLU(inplace=True)\n",
              "  (14): Conv2d(256, 256, kernel_size=(3, 3), stride=(1, 1), padding=(1, 1))\n",
              "  (15): ReLU(inplace=True)\n",
              "  (16): MaxPool2d(kernel_size=2, stride=2, padding=0, dilation=1, ceil_mode=False)\n",
              "  (17): Conv2d(256, 512, kernel_size=(3, 3), stride=(1, 1), padding=(1, 1))\n",
              "  (18): ReLU(inplace=True)\n",
              "  (19): Conv2d(512, 512, kernel_size=(3, 3), stride=(1, 1), padding=(1, 1))\n",
              "  (20): ReLU(inplace=True)\n",
              "  (21): Conv2d(512, 512, kernel_size=(3, 3), stride=(1, 1), padding=(1, 1))\n",
              "  (22): ReLU(inplace=True)\n",
              "  (23): MaxPool2d(kernel_size=2, stride=2, padding=0, dilation=1, ceil_mode=False)\n",
              "  (24): Conv2d(512, 512, kernel_size=(3, 3), stride=(1, 1), padding=(1, 1))\n",
              "  (25): ReLU(inplace=True)\n",
              "  (26): Conv2d(512, 512, kernel_size=(3, 3), stride=(1, 1), padding=(1, 1))\n",
              "  (27): ReLU(inplace=True)\n",
              "  (28): Conv2d(512, 512, kernel_size=(3, 3), stride=(1, 1), padding=(1, 1))\n",
              "  (29): ReLU(inplace=True)\n",
              "  (30): MaxPool2d(kernel_size=2, stride=2, padding=0, dilation=1, ceil_mode=False)\n",
              ")"
            ]
          },
          "metadata": {},
          "execution_count": 3
        }
      ],
      "source": [
        "# This code is to see the layers in the VGG16 encoder\n",
        "encoder_test = VGG16Encoder()\n",
        "encoder_test.model"
      ]
    },
    {
      "cell_type": "markdown",
      "metadata": {
        "id": "snE0Z3MBOym2"
      },
      "source": [
        "### Decoder"
      ]
    },
    {
      "cell_type": "markdown",
      "metadata": {
        "id": "rvk3eKfBdufh"
      },
      "source": [
        "The decoder is created by mirroring the VGG16 convolutional layers, replacing the max pooling layers with upsampling ones."
      ]
    },
    {
      "cell_type": "code",
      "execution_count": null,
      "metadata": {
        "id": "oKByr-PzOzoQ"
      },
      "outputs": [],
      "source": [
        "class VGG16Decoder(nn.Module):\n",
        "    def __init__(self, depth=5, use_gpu=False):\n",
        "        super().__init__()\n",
        "        all_layers = nn.Sequential(\n",
        "            nn.UpsamplingNearest2d(scale_factor=2),\n",
        "            nn.Conv2d(512, 512, kernel_size=(3, 3), stride=(1, 1), padding=(1, 1)),\n",
        "            nn.ReLU(inplace=True),\n",
        "            nn.Conv2d(512, 512, kernel_size=(3, 3), stride=(1, 1), padding=(1, 1)),\n",
        "            nn.ReLU(inplace=True),\n",
        "            nn.Conv2d(512, 512, kernel_size=(3, 3), stride=(1, 1), padding=(1, 1)),\n",
        "            nn.ReLU(inplace=True),\n",
        "\n",
        "            nn.UpsamplingNearest2d(scale_factor=2),\n",
        "            nn.Conv2d(512, 512, kernel_size=(3, 3), stride=(1, 1), padding=(1, 1)),\n",
        "            nn.ReLU(inplace=True),\n",
        "            nn.Conv2d(512, 512, kernel_size=(3, 3), stride=(1, 1), padding=(1, 1)),\n",
        "            nn.ReLU(inplace=True),\n",
        "            nn.Conv2d(512, 256, kernel_size=(3, 3), stride=(1, 1), padding=(1, 1)),\n",
        "            nn.ReLU(inplace=True),\n",
        "\n",
        "            nn.UpsamplingNearest2d(scale_factor=2),\n",
        "            nn.Conv2d(256, 256, kernel_size=(3, 3), stride=(1, 1), padding=(1, 1)),\n",
        "            nn.ReLU(inplace=True),\n",
        "            nn.Conv2d(256, 256, kernel_size=(3, 3), stride=(1, 1), padding=(1, 1)),\n",
        "            nn.ReLU(inplace=True),\n",
        "            nn.Conv2d(256, 128, kernel_size=(3, 3), stride=(1, 1), padding=(1, 1)),\n",
        "            nn.ReLU(inplace=True),\n",
        "\n",
        "            nn.UpsamplingNearest2d(scale_factor=2),\n",
        "            nn.Conv2d(128, 128, kernel_size=(3, 3), stride=(1, 1), padding=(1, 1)),\n",
        "            nn.ReLU(inplace=True),\n",
        "            nn.Conv2d(128, 64, kernel_size=(3, 3), stride=(1, 1), padding=(1, 1)),\n",
        "            nn.ReLU(inplace=True),\n",
        "\n",
        "            nn.UpsamplingNearest2d(scale_factor=2),\n",
        "            nn.Conv2d(64, 64, kernel_size=(3, 3), stride=(1, 1), padding=(1, 1)),\n",
        "            nn.ReLU(inplace=True),\n",
        "            nn.Conv2d(64, 3, kernel_size=(3, 3), stride=(1, 1), padding=(1, 1)),\n",
        "            nn.ReLU(inplace=True),\n",
        "        )\n",
        "        if use_gpu:\n",
        "            all_layers = all_layers.to(\"cuda\")\n",
        "\n",
        "        # Hardcoded indices for each depth\n",
        "        indices = {\n",
        "            1: 6,\n",
        "            2: 13,\n",
        "            3: 20,\n",
        "            4: 25,\n",
        "            5: 30,\n",
        "        }\n",
        "        self.model = all_layers[:indices[depth] + 1]\n",
        "\n",
        "    def forward(self, x):\n",
        "        return self.model(x)"
      ]
    },
    {
      "cell_type": "code",
      "execution_count": null,
      "metadata": {
        "colab": {
          "base_uri": "https://localhost:8080/"
        },
        "id": "zIYgsAuDjZhP",
        "outputId": "d60a743c-1d91-4f7a-b158-451c2f0ae3fb"
      },
      "outputs": [
        {
          "output_type": "execute_result",
          "data": {
            "text/plain": [
              "Sequential(\n",
              "  (0): UpsamplingNearest2d(scale_factor=2.0, mode=nearest)\n",
              "  (1): Conv2d(512, 512, kernel_size=(3, 3), stride=(1, 1), padding=(1, 1))\n",
              "  (2): ReLU(inplace=True)\n",
              "  (3): Conv2d(512, 512, kernel_size=(3, 3), stride=(1, 1), padding=(1, 1))\n",
              "  (4): ReLU(inplace=True)\n",
              "  (5): Conv2d(512, 512, kernel_size=(3, 3), stride=(1, 1), padding=(1, 1))\n",
              "  (6): ReLU(inplace=True)\n",
              "  (7): UpsamplingNearest2d(scale_factor=2.0, mode=nearest)\n",
              "  (8): Conv2d(512, 512, kernel_size=(3, 3), stride=(1, 1), padding=(1, 1))\n",
              "  (9): ReLU(inplace=True)\n",
              "  (10): Conv2d(512, 512, kernel_size=(3, 3), stride=(1, 1), padding=(1, 1))\n",
              "  (11): ReLU(inplace=True)\n",
              "  (12): Conv2d(512, 256, kernel_size=(3, 3), stride=(1, 1), padding=(1, 1))\n",
              "  (13): ReLU(inplace=True)\n",
              "  (14): UpsamplingNearest2d(scale_factor=2.0, mode=nearest)\n",
              "  (15): Conv2d(256, 256, kernel_size=(3, 3), stride=(1, 1), padding=(1, 1))\n",
              "  (16): ReLU(inplace=True)\n",
              "  (17): Conv2d(256, 256, kernel_size=(3, 3), stride=(1, 1), padding=(1, 1))\n",
              "  (18): ReLU(inplace=True)\n",
              "  (19): Conv2d(256, 128, kernel_size=(3, 3), stride=(1, 1), padding=(1, 1))\n",
              "  (20): ReLU(inplace=True)\n",
              "  (21): UpsamplingNearest2d(scale_factor=2.0, mode=nearest)\n",
              "  (22): Conv2d(128, 128, kernel_size=(3, 3), stride=(1, 1), padding=(1, 1))\n",
              "  (23): ReLU(inplace=True)\n",
              "  (24): Conv2d(128, 64, kernel_size=(3, 3), stride=(1, 1), padding=(1, 1))\n",
              "  (25): ReLU(inplace=True)\n",
              "  (26): UpsamplingNearest2d(scale_factor=2.0, mode=nearest)\n",
              "  (27): Conv2d(64, 64, kernel_size=(3, 3), stride=(1, 1), padding=(1, 1))\n",
              "  (28): ReLU(inplace=True)\n",
              "  (29): Conv2d(64, 3, kernel_size=(3, 3), stride=(1, 1), padding=(1, 1))\n",
              "  (30): ReLU(inplace=True)\n",
              ")"
            ]
          },
          "metadata": {},
          "execution_count": 5
        }
      ],
      "source": [
        "decoder_test = VGG16Decoder()\n",
        "decoder_test.model"
      ]
    },
    {
      "cell_type": "markdown",
      "metadata": {
        "id": "7eDxnuNiCD4R"
      },
      "source": [
        "### Loss function"
      ]
    },
    {
      "cell_type": "code",
      "execution_count": null,
      "metadata": {
        "id": "cg-fNhjrCGVl"
      },
      "outputs": [],
      "source": [
        "class VGG16DecoderLossFunction(nn.Module):\n",
        "    def __init__(self, weight=1, show_progress=False, show_images=False, use_gpu=False):\n",
        "        super().__init__()\n",
        "        self.weight = weight\n",
        "        self.show_progress = show_progress\n",
        "        self.show_images = show_images\n",
        "        self.use_gpu = use_gpu\n",
        "\n",
        "    def forward(self, recon_image, input_image, encoder):\n",
        "        if self.use_gpu:\n",
        "            encoder = encoder.cuda()\n",
        "            input_image = input_image.cuda()\n",
        "            recon_image = recon_image.cuda()\n",
        "\n",
        "        input_features = encoder(input_image)\n",
        "        recon_features = encoder(recon_image)\n",
        "\n",
        "        image_loss = torch.pow(torch.linalg.norm(input_image - recon_image), 2)\n",
        "        feature_loss = torch.pow(torch.linalg.norm(input_features - recon_features), 2)\n",
        "        total_loss = image_loss + self.weight * feature_loss\n",
        "\n",
        "        if self.show_progress:\n",
        "            if self.show_images:\n",
        "                for i in range(input_image.detach().shape[0]):\n",
        "                    fig, ax = plt.subplots(1, 2)\n",
        "                    ax[0].imshow(input_image.detach()[i].permute(1, 2, 0).cpu().numpy())\n",
        "                    ax[1].imshow(recon_image.detach()[i].permute(1, 2, 0).cpu().numpy() / torch.max(recon_image.detach().cpu()))\n",
        "\n",
        "                    ax[0].set_title(\"Input image\")\n",
        "                    ax[1].set_title(\"Reconstructed image\")\n",
        "            print(f\"\"\"\n",
        "                \\rLoss = {total_loss}\n",
        "                \\r=========================\n",
        "                \\rInput                  -> {input_image.shape}\n",
        "                \\rInput min              -> {torch.min(input_image)}\n",
        "                \\rInput max              -> {torch.max(input_image)}\n",
        "                \\rReconstructed          -> {recon_image.shape}\n",
        "                \\rReconstructed min      -> {torch.min(recon_image)}\n",
        "                \\rReconstructed max      -> {torch.max(recon_image)}\n",
        "                \\rInput features         -> {input_features.shape}\n",
        "                \\rReconstructed features -> {recon_features.shape}\n",
        "            \"\"\"\n",
        "            )\n",
        "            plt.show()\n",
        "        return total_loss"
      ]
    },
    {
      "cell_type": "markdown",
      "metadata": {
        "id": "OycpvGCcI7Er"
      },
      "source": [
        "### Whitening and Coloring Transforms"
      ]
    },
    {
      "cell_type": "code",
      "execution_count": null,
      "metadata": {
        "id": "IV6-mpCOI_dN"
      },
      "outputs": [],
      "source": [
        "#TODO: refactor variable names\n",
        "def wct(alpha, cf, sf, s1f=None, beta=None):\n",
        "    # content image whitening\n",
        "    cf = cf.double()\n",
        "    c_channels, c_width, c_height = cf.size(0), cf.size(1), cf.size(2)\n",
        "    cfv = cf.view(c_channels, -1)  # c x (h x w)\n",
        "\n",
        "    c_mean = torch.mean(cfv, 1)  # perform mean for each row\n",
        "    # add dim and replicate mean on rows\n",
        "    c_mean = c_mean.unsqueeze(1).expand_as(cfv)\n",
        "    cfv = cfv - c_mean  # subtract mean element-wise\n",
        "\n",
        "    c_covm = torch.mm(cfv, cfv.t()).div(\n",
        "        (c_width * c_height) - 1)  # construct covariance matrix\n",
        "    # singular value decomposition\n",
        "    c_u, c_e, c_v = torch.svd(c_covm, some=False)\n",
        "\n",
        "    k_c = c_channels\n",
        "    for i in range(c_channels):\n",
        "        if c_e[i] < 0.00001:\n",
        "            k_c = i\n",
        "            break\n",
        "    c_d = (c_e[0:k_c]).pow(-0.5)\n",
        "\n",
        "    w_step1 = torch.mm(c_v[:, 0:k_c], torch.diag(c_d))\n",
        "    w_step2 = torch.mm(w_step1, (c_v[:, 0:k_c].t()))\n",
        "    whitened = torch.mm(w_step2, cfv)\n",
        "\n",
        "    # style image coloring\n",
        "    sf = sf.double()\n",
        "    _, s_width, s_heigth = sf.size(0), sf.size(1), sf.size(2)\n",
        "    sfv = sf.view(c_channels, -1)\n",
        "\n",
        "    s_mean = torch.mean(sfv, 1)\n",
        "    s_mean = s_mean.unsqueeze(1).expand_as(sfv)\n",
        "    sfv = sfv - s_mean\n",
        "\n",
        "    s_covm = torch.mm(sfv, sfv.t()).div((s_width * s_heigth) - 1)\n",
        "    s_u, s_e, s_v = torch.svd(s_covm, some=False)\n",
        "\n",
        "    s_k = c_channels  # same number of channels ad content features\n",
        "    for i in range(c_channels):\n",
        "        if s_e[i] < 0.00001:\n",
        "            s_k = i\n",
        "            break\n",
        "    s_d = (s_e[0:s_k]).pow(0.5)\n",
        "\n",
        "    c_step1 = torch.mm(s_v[:, 0:s_k], torch.diag(s_d))\n",
        "    c_step2 = torch.mm(c_step1, s_v[:, 0:s_k].t())\n",
        "    colored = torch.mm(c_step2, whitened)\n",
        "\n",
        "    cs0_features = colored + s_mean.resize_as_(colored)\n",
        "    cs0_features = cs0_features.view_as(cf)\n",
        "\n",
        "    # additional style coloring\n",
        "    if beta:\n",
        "        sf = s1f\n",
        "        sf = sf.double()\n",
        "        _, s_width, s_heigth = sf.size(0), sf.size(1), sf.size(2)\n",
        "        sfv = sf.view(c_channels, -1)\n",
        "\n",
        "        s_mean = torch.mean(sfv, 1)\n",
        "        s_mean = s_mean.unsqueeze(1).expand_as(sfv)\n",
        "        sfv = sfv - s_mean\n",
        "\n",
        "        s_covm = torch.mm(sfv, sfv.t()).div((s_width * s_heigth) - 1)\n",
        "        s_u, s_e, s_v = torch.svd(s_covm, some=False)\n",
        "\n",
        "        s_k = c_channels\n",
        "        for i in range(c_channels):\n",
        "            if s_e[i] < 0.00001:\n",
        "                s_k = i\n",
        "                break\n",
        "        s_d = (s_e[0:s_k]).pow(0.5)\n",
        "\n",
        "        c_step1 = torch.mm(s_v[:, 0:s_k], torch.diag(s_d))\n",
        "        c_step2 = torch.mm(c_step1, s_v[:, 0:s_k].t())\n",
        "        colored = torch.mm(c_step2, whitened)\n",
        "\n",
        "        cs1_features = colored + s_mean.resize_as_(colored)\n",
        "        cs1_features = cs1_features.view_as(cf)\n",
        "\n",
        "        target_features = beta * cs0_features + (1.0 - beta) * cs1_features\n",
        "    else:\n",
        "        target_features = cs0_features\n",
        "\n",
        "    ccsf = alpha * target_features + (1.0 - alpha) * cf\n",
        "    return ccsf.float().unsqueeze(0)\n",
        "\n",
        "\n",
        "def wct_mask(cf, sf):\n",
        "    cf = cf.double()\n",
        "    cf_sizes = cf.size()\n",
        "    c_mean = torch.mean(cf, 1)\n",
        "    c_mean = c_mean.unsqueeze(1).expand_as(cf)\n",
        "    cf -= c_mean\n",
        "\n",
        "    c_covm = torch.mm(cf, cf.t()).div(cf_sizes[1] - 1)\n",
        "    c_u, c_e, c_v = torch.svd(c_covm, some=False)\n",
        "\n",
        "    k_c = cf_sizes[0]\n",
        "    for i in range(cf_sizes[0]):\n",
        "        if c_e[i] < 0.00001:\n",
        "            k_c = i\n",
        "            break\n",
        "    c_d = (c_e[0:k_c]).pow(-0.5)\n",
        "    whitened = torch.mm(\n",
        "        torch.mm(torch.mm(c_v[:, 0:k_c], torch.diag(c_d)), (c_v[:, 0:k_c].t())), cf)\n",
        "\n",
        "    sf = sf.double()\n",
        "    sf_sizes = sf.size()\n",
        "    sfv = sf.view(sf_sizes[0], sf_sizes[1] * sf_sizes[2])\n",
        "    s_mean = torch.mean(sfv, 1)\n",
        "    s_mean = s_mean.unsqueeze(1).expand_as(sfv)\n",
        "    sfv -= s_mean\n",
        "\n",
        "    s_covm = torch.mm(sfv, sfv.t()).div((sf_sizes[1] * sf_sizes[2]) - 1)\n",
        "    s_u, s_e, s_v = torch.svd(s_covm, some=False)\n",
        "\n",
        "    s_k = sf_sizes[0]\n",
        "    for i in range(sf_sizes[0]):\n",
        "        if s_e[i] < 0.00001:\n",
        "            s_k = i\n",
        "            break\n",
        "    s_d = (s_e[0:s_k]).pow(0.5)\n",
        "    ccsf = torch.mm(torch.mm(\n",
        "        torch.mm(s_v[:, 0:s_k], torch.diag(s_d)), s_v[:, 0:s_k].t()), whitened)\n",
        "\n",
        "    ccsf += s_mean.resize_as_(ccsf)\n",
        "    return ccsf.float()\n"
      ]
    },
    {
      "cell_type": "markdown",
      "metadata": {
        "id": "tEJBID_co-ph"
      },
      "source": [
        "## Decoder training"
      ]
    },
    {
      "cell_type": "markdown",
      "source": [
        "### Training functions"
      ],
      "metadata": {
        "id": "OUgxjHfQ8092"
      }
    },
    {
      "cell_type": "code",
      "execution_count": null,
      "metadata": {
        "id": "eJGhuJP-JCyJ"
      },
      "outputs": [],
      "source": [
        "# TODO: Fix all of this code (it is copied from Tarea 2)\n",
        "def train_step(x_batch, y_batch, model, optimizer, criterion, use_gpu, encoder):\n",
        "    y_predicted = model(x_batch)\n",
        "    if use_gpu:\n",
        "        y_predicted = y_predicted.cuda()\n",
        "    loss = criterion(y_predicted, y_batch, encoder)\n",
        "\n",
        "    optimizer.zero_grad()\n",
        "    loss.backward()\n",
        "    optimizer.step()\n",
        "\n",
        "    return y_predicted, loss\n",
        "\n",
        "\n",
        "def evaluate(val_loader, model, criterion, use_gpu):\n",
        "    cumulative_loss = 0\n",
        "    data_count = 0\n",
        "\n",
        "    for x_val, y_val in val_loader:\n",
        "        if use_gpu:\n",
        "            x_val = x_val.cuda()\n",
        "            y_val = y_val.cuda()\n",
        "\n",
        "        y_predicted = model(x_val)\n",
        "        loss = criterion(y_predicted, y_val, model)\n",
        "\n",
        "        cumulative_loss += loss.item()\n",
        "        data_count += y_val.shape[0]\n",
        "\n",
        "    return cumulative_loss / len(val_loader)\n",
        "\n",
        "\n",
        "def train_model(model, train_dataset, epochs, criterion,\n",
        "                batch_size, lr, encoder, n_evaluations_per_epoch=6,\n",
        "                use_gpu=False, loader_kwargs=None):\n",
        "    if use_gpu:\n",
        "        model = model.cuda()\n",
        "        encoder = encoder.cuda()\n",
        "        criterion = criterion.cuda()\n",
        "    if loader_kwargs is None:\n",
        "        loader_kwargs = {}\n",
        "\n",
        "    train_loader = VGG16DecoderImageDataloader(\n",
        "        train_dataset, batch_size=batch_size, use_gpu=use_gpu, **loader_kwargs,\n",
        "    )\n",
        "    optimizer = torch.optim.Adam(model.parameters(), lr=lr)\n",
        "\n",
        "    curves = {\n",
        "        \"train_loss\": [],\n",
        "    }\n",
        "\n",
        "    initial_time = time.perf_counter()\n",
        "    n_batches = len(train_loader)\n",
        "\n",
        "    for epoch in range(epochs):\n",
        "        print(f\"\\rEpoch {epoch + 1}/{epochs}\")\n",
        "\n",
        "        # Metrics\n",
        "        cumulative_train_loss = 0\n",
        "        train_loss_count = 0\n",
        "\n",
        "        model.train()\n",
        "        progress_bar = tqdm(\n",
        "            enumerate(train_loader), total=n_batches, desc=\"Training the decoder\",\n",
        "        )\n",
        "        for i, (x_batch, y_batch) in progress_bar:\n",
        "            if use_gpu:\n",
        "                x_batch = x_batch.cuda()\n",
        "                y_batch = y_batch.cuda()\n",
        "\n",
        "            y_predicted, loss = train_step(\n",
        "                x_batch, y_batch, model, optimizer, criterion, use_gpu, encoder,\n",
        "            )\n",
        "            cumulative_train_loss += loss.item()\n",
        "            train_loss_count += 1\n",
        "\n",
        "            train_loss = cumulative_train_loss / train_loss_count\n",
        "            progress_bar.desc = f\"Training the decoder (train loss = {train_loss})\"\n",
        "\n",
        "        train_loss = cumulative_train_loss / train_loss_count\n",
        "        curves[\"train_loss\"].append(train_loss)\n",
        "\n",
        "    model = model.cpu()\n",
        "    return curves\n",
        "\n",
        "\n",
        "def show_curves(curves):\n",
        "    fig, ax = plt.subplots(1, 1, figsize=(13, 5))\n",
        "    fig.set_facecolor(\"white\")\n",
        "\n",
        "    epochs = np.arange(len(curves[\"val_loss\"])) + 1\n",
        "\n",
        "    ax[0].plot(epochs, curves[\"val_loss\"], label=\"validation\")\n",
        "    ax[0].plot(epochs, curves[\"train_loss\"], label=\"training\")\n",
        "    ax[0].set_xlabel(\"Epoch\")\n",
        "    ax[0].set_ylabel(\"Loss\")\n",
        "    ax[0].set_title(\"Loss evolution during training\")\n",
        "    ax[0].legend()\n",
        "\n",
        "    plt.show()"
      ]
    },
    {
      "cell_type": "markdown",
      "metadata": {
        "id": "UPmSx7gWendE"
      },
      "source": [
        "### Training parameters\n",
        "Having defined all the code to train the network, we have to run it. We start off by creating a dataset from the images from COCO (specifically, the 2017 test dataset)."
      ]
    },
    {
      "cell_type": "code",
      "execution_count": null,
      "metadata": {
        "id": "LoqKuJt1etER"
      },
      "outputs": [],
      "source": [
        "LEARNING_RATE = 5e-4\n",
        "BATCH_SIZE = 30\n",
        "EPOCHS = 1\n",
        "USE_GPU = True\n",
        "NORM_MEAN = (0.485, 0.456, 0.406)\n",
        "NORM_STD = (0.229, 0.224, 0.225)\n",
        "\n",
        "transform = torchvision.transforms.Compose([\n",
        "    torchvision.transforms.ToTensor(),\n",
        "    torchvision.transforms.Resize(256),\n",
        "    torchvision.transforms.CenterCrop(224),\n",
        "    torchvision.transforms.Normalize(NORM_MEAN, NORM_STD),\n",
        "])\n",
        "\n",
        "vgg_encoder = VGG16Encoder(use_gpu=USE_GPU)\n",
        "\n",
        "untransformed_train_ds = VGG16DecoderImageDataset(\n",
        "    \"data/test2017\",\n",
        "    encoder=vgg_encoder,\n",
        "    transform=torchvision.transforms.ToTensor(),\n",
        "    use_gpu=USE_GPU,\n",
        ")\n",
        "train_ds = VGG16DecoderImageDataset(\n",
        "    \"data/test2017\",\n",
        "    encoder=vgg_encoder,\n",
        "    transform=transform,\n",
        "    use_gpu=USE_GPU,\n",
        ")\n",
        "reduced_ds = VGG16DecoderImageDataset(\n",
        "    \"data/test2017\",\n",
        "    encoder=vgg_encoder,\n",
        "    transform=transform,\n",
        "    use_gpu=USE_GPU,\n",
        ")\n",
        "reduced_ds.image_names = reduced_ds.image_names[:120]\n",
        "\n",
        "# Loss function and model to train\n",
        "criterion = VGG16DecoderLossFunction(1, use_gpu=USE_GPU)\n",
        "vgg_decoder = VGG16Decoder(use_gpu=USE_GPU)"
      ]
    },
    {
      "cell_type": "markdown",
      "source": [
        "### Training execution"
      ],
      "metadata": {
        "id": "nQX0Agc_9s3D"
      }
    },
    {
      "cell_type": "code",
      "source": [
        "# Flush the memory in cuda before running\n",
        "torch.cuda.empty_cache()\n",
        "\n",
        "# Run the training\n",
        "curves = train_model(\n",
        "    vgg_decoder,\n",
        "    train_ds,\n",
        "    EPOCHS,\n",
        "    criterion,\n",
        "    BATCH_SIZE,\n",
        "    LEARNING_RATE,\n",
        "    vgg_encoder,\n",
        "    use_gpu=USE_GPU,\n",
        ")"
      ],
      "metadata": {
        "colab": {
          "base_uri": "https://localhost:8080/"
        },
        "id": "4vkZxYeeNpJQ",
        "outputId": "daceb273-9f40-4412-9ab6-674d5a7e1223"
      },
      "execution_count": null,
      "outputs": [
        {
          "output_type": "stream",
          "name": "stdout",
          "text": [
            "\rEpoch 1/1\n"
          ]
        },
        {
          "output_type": "stream",
          "name": "stderr",
          "text": [
            "Training the decoder (train loss = 8194020.841814159): 100%|██████████| 1356/1356 [51:09<00:00,  2.26s/it]"
          ]
        },
        {
          "output_type": "stream",
          "name": "stdout",
          "text": [
            "\n",
            "Total training time: 3069.1889 s\n"
          ]
        },
        {
          "output_type": "stream",
          "name": "stderr",
          "text": [
            "\n"
          ]
        }
      ]
    },
    {
      "cell_type": "markdown",
      "metadata": {
        "id": "iSsNd7gFTrvU"
      },
      "source": [
        "## Evaluating the model"
      ]
    },
    {
      "cell_type": "markdown",
      "source": [
        "### Preprocessing\n",
        "Here we compare the original with the preprocessed images, to see how it affects them."
      ],
      "metadata": {
        "id": "DmopYDsk9MMK"
      }
    },
    {
      "cell_type": "code",
      "source": [
        "for i in range(4):\n",
        "    fig, ax = plt.subplots(1, 2)\n",
        "    ax[0].set_title(\"Imagen original\")\n",
        "    ax[0].imshow(untransformed_train_ds[i][1].permute(1, 2, 0).cpu())\n",
        "\n",
        "    ax[1].set_title(\"Imagen transformada\")\n",
        "    ax[1].imshow(train_ds[i][1].permute(1, 2, 0).cpu())\n",
        "\n",
        "    fig.savefig(f\"img/transform-comparison-{i}.pdf\", bbox_inches=\"tight\")\n",
        "plt.show()"
      ],
      "metadata": {
        "id": "m-ZNbrVN9K_F"
      },
      "execution_count": null,
      "outputs": []
    },
    {
      "cell_type": "code",
      "source": [
        "INDEX = 7\n",
        "\n",
        "feats = vgg_encoder(train_ds[INDEX][1])\n",
        "img_tensor = torch.zeros((1, *feats.shape))\n",
        "img_tensor[0] = feats\n",
        "\n",
        "fig, ax = plt.subplots(1, 2)\n",
        "ax[0].imshow(train_ds[INDEX][1].permute(1, 2, 0).cpu())\n",
        "ax[1].imshow(vgg_decoder(img_tensor).detach()[0].permute(1, 2, 0))"
      ],
      "metadata": {
        "colab": {
          "base_uri": "https://localhost:8080/",
          "height": 256
        },
        "id": "C6Nwxo3qsxHO",
        "outputId": "b19c70a3-2fdc-46ac-b105-9d92a07d8e03"
      },
      "execution_count": null,
      "outputs": [
        {
          "output_type": "stream",
          "name": "stderr",
          "text": [
            "WARNING:matplotlib.image:Clipping input data to the valid range for imshow with RGB data ([0..1] for floats or [0..255] for integers).\n"
          ]
        },
        {
          "output_type": "stream",
          "name": "stdout",
          "text": [
            "tensor(0.)\n"
          ]
        },
        {
          "output_type": "execute_result",
          "data": {
            "text/plain": [
              "<matplotlib.image.AxesImage at 0x7ff3c0309d90>"
            ]
          },
          "metadata": {},
          "execution_count": 40
        },
        {
          "output_type": "display_data",
          "data": {
            "text/plain": [
              "<Figure size 432x288 with 2 Axes>"
            ],
            "image/png": "[encoded data removed]"
          },
          "metadata": {
            "needs_background": "light"
          }
        }
      ]
    }
  ],
  "metadata": {
    "accelerator": "GPU",
    "colab": {
      "collapsed_sections": [
        "3P3FRS-vOtVH",
        "m89LZkJiOxGC",
        "snE0Z3MBOym2",
        "7eDxnuNiCD4R",
        "OycpvGCcI7Er"
      ],
      "provenance": []
    },
    "kernelspec": {
      "display_name": "Python 3",
      "name": "python3"
    },
    "language_info": {
      "name": "python"
    },
    "gpuClass": "standard"
  },
  "nbformat": 4,
  "nbformat_minor": 0
}